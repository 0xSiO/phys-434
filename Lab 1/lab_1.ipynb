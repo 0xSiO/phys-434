{
 "cells": [
  {
   "cell_type": "markdown",
   "metadata": {},
   "source": [
    "# Lab 1"
   ]
  },
  {
   "cell_type": "code",
   "execution_count": 10,
   "metadata": {},
   "outputs": [],
   "source": [
    "%%capture\n",
    "import sys\n",
    "!{sys.executable} -m pip install --user scipy numpy matplotlib pandas"
   ]
  },
  {
   "cell_type": "code",
   "execution_count": 11,
   "metadata": {},
   "outputs": [],
   "source": [
    "%matplotlib inline\n",
    "import matplotlib\n",
    "import matplotlib.pyplot as plt\n",
    "matplotlib.rc('font', size=22)\n",
    "matplotlib.rc('figure', figsize=(18, 10))"
   ]
  },
  {
   "cell_type": "code",
   "execution_count": 12,
   "metadata": {},
   "outputs": [],
   "source": [
    "import numpy as np\n",
    "import pandas as pd\n",
    "from scipy import stats"
   ]
  },
  {
   "cell_type": "markdown",
   "metadata": {},
   "source": [
    "## Standard Normal Distribution, μ=0, σ=1"
   ]
  },
  {
   "cell_type": "markdown",
   "metadata": {},
   "source": [
    "For the standard normal distribution, the following is a Z table, integrating from 0 to Z.\n",
    "\n",
    "| z   | +0.00   | +0.01   | +0.02   | +0.03   | +0.04   | +0.05   | +0.06   | +0.07   | +0.08   | +0.09   |\n",
    "|-----|---------|---------|---------|---------|---------|---------|---------|---------|---------|---------|\n",
    "| 0.0 | 0.00000 | 0.00399 | 0.00798 | 0.01197 | 0.01595 | 0.01994 | 0.02392 | 0.02790 | 0.03188 | 0.03586 |\n",
    "| 0.1 | 0.03983 | 0.04380 | 0.04776 | 0.05172 | 0.05567 | 0.05962 | 0.06356 | 0.06749 | 0.07142 | 0.07535 |\n",
    "| 0.2 | 0.07926 | 0.08317 | 0.08706 | 0.09095 | 0.09483 | 0.09871 | 0.10257 | 0.10642 | 0.11026 | 0.11409 |\n",
    "| 0.3 | 0.11791 | 0.12172 | 0.12552 | 0.12930 | 0.13307 | 0.13683 | 0.14058 | 0.14431 | 0.14803 | 0.15173 |\n",
    "| 0.4 | 0.15542 | 0.15910 | 0.16276 | 0.16640 | 0.17003 | 0.17364 | 0.17724 | 0.18082 | 0.18439 | 0.18793 |\n",
    "| 0.5 | 0.19146 | 0.19497 | 0.19847 | 0.20194 | 0.20540 | 0.20884 | 0.21226 | 0.21566 | 0.21904 | 0.22240 |\n",
    "| 0.6 | 0.22575 | 0.22907 | 0.23237 | 0.23565 | 0.23891 | 0.24215 | 0.24537 | 0.24857 | 0.25175 | 0.25490 |\n",
    "| 0.7 | 0.25804 | 0.26115 | 0.26424 | 0.26730 | 0.27035 | 0.27337 | 0.27637 | 0.27935 | 0.28230 | 0.28524 |\n",
    "| 0.8 | 0.28814 | 0.29103 | 0.29389 | 0.29673 | 0.29955 | 0.30234 | 0.30511 | 0.30785 | 0.31057 | 0.31327 |\n",
    "| 0.9 | 0.31594 | 0.31859 | 0.32121 | 0.32381 | 0.32639 | 0.32894 | 0.33147 | 0.33398 | 0.33646 | 0.33891 |\n",
    "| 1.0 | 0.34134 | 0.34375 | 0.34614 | 0.34849 | 0.35083 | 0.35314 | 0.35543 | 0.35769 | 0.35993 | 0.36214 |\n",
    "\n",
    "Source: https://en.wikipedia.org/wiki/Standard_normal_table"
   ]
  },
  {
   "cell_type": "markdown",
   "metadata": {},
   "source": [
    "Let's replicate this table with Python."
   ]
  },
  {
   "cell_type": "code",
   "execution_count": 13,
   "metadata": {},
   "outputs": [
    {
     "data": {
      "text/html": [
       "<div>\n",
       "<style scoped>\n",
       "    .dataframe tbody tr th:only-of-type {\n",
       "        vertical-align: middle;\n",
       "    }\n",
       "\n",
       "    .dataframe tbody tr th {\n",
       "        vertical-align: top;\n",
       "    }\n",
       "\n",
       "    .dataframe thead th {\n",
       "        text-align: right;\n",
       "    }\n",
       "</style>\n",
       "<table border=\"1\" class=\"dataframe\">\n",
       "  <thead>\n",
       "    <tr style=\"text-align: right;\">\n",
       "      <th></th>\n",
       "      <th>0.00</th>\n",
       "      <th>0.01</th>\n",
       "      <th>0.02</th>\n",
       "      <th>0.03</th>\n",
       "      <th>0.04</th>\n",
       "      <th>0.05</th>\n",
       "      <th>0.06</th>\n",
       "      <th>0.07</th>\n",
       "      <th>0.08</th>\n",
       "      <th>0.09</th>\n",
       "    </tr>\n",
       "  </thead>\n",
       "  <tbody>\n",
       "    <tr>\n",
       "      <td>0.0</td>\n",
       "      <td>0.000000</td>\n",
       "      <td>0.003989</td>\n",
       "      <td>0.007978</td>\n",
       "      <td>0.011966</td>\n",
       "      <td>0.015953</td>\n",
       "      <td>0.019939</td>\n",
       "      <td>0.023922</td>\n",
       "      <td>0.027903</td>\n",
       "      <td>0.031881</td>\n",
       "      <td>0.035856</td>\n",
       "    </tr>\n",
       "    <tr>\n",
       "      <td>0.1</td>\n",
       "      <td>0.039828</td>\n",
       "      <td>0.043795</td>\n",
       "      <td>0.047758</td>\n",
       "      <td>0.051717</td>\n",
       "      <td>0.055670</td>\n",
       "      <td>0.059618</td>\n",
       "      <td>0.063559</td>\n",
       "      <td>0.067495</td>\n",
       "      <td>0.071424</td>\n",
       "      <td>0.075345</td>\n",
       "    </tr>\n",
       "    <tr>\n",
       "      <td>0.2</td>\n",
       "      <td>0.079260</td>\n",
       "      <td>0.083166</td>\n",
       "      <td>0.087064</td>\n",
       "      <td>0.090954</td>\n",
       "      <td>0.094835</td>\n",
       "      <td>0.098706</td>\n",
       "      <td>0.102568</td>\n",
       "      <td>0.106420</td>\n",
       "      <td>0.110261</td>\n",
       "      <td>0.114092</td>\n",
       "    </tr>\n",
       "    <tr>\n",
       "      <td>0.3</td>\n",
       "      <td>0.117911</td>\n",
       "      <td>0.121720</td>\n",
       "      <td>0.125516</td>\n",
       "      <td>0.129300</td>\n",
       "      <td>0.133072</td>\n",
       "      <td>0.136831</td>\n",
       "      <td>0.140576</td>\n",
       "      <td>0.144309</td>\n",
       "      <td>0.148027</td>\n",
       "      <td>0.151732</td>\n",
       "    </tr>\n",
       "    <tr>\n",
       "      <td>0.4</td>\n",
       "      <td>0.155422</td>\n",
       "      <td>0.159097</td>\n",
       "      <td>0.162757</td>\n",
       "      <td>0.166402</td>\n",
       "      <td>0.170031</td>\n",
       "      <td>0.173645</td>\n",
       "      <td>0.177242</td>\n",
       "      <td>0.180822</td>\n",
       "      <td>0.184386</td>\n",
       "      <td>0.187933</td>\n",
       "    </tr>\n",
       "    <tr>\n",
       "      <td>0.5</td>\n",
       "      <td>0.191462</td>\n",
       "      <td>0.194974</td>\n",
       "      <td>0.198468</td>\n",
       "      <td>0.201944</td>\n",
       "      <td>0.205401</td>\n",
       "      <td>0.208840</td>\n",
       "      <td>0.212260</td>\n",
       "      <td>0.215661</td>\n",
       "      <td>0.219043</td>\n",
       "      <td>0.222405</td>\n",
       "    </tr>\n",
       "    <tr>\n",
       "      <td>0.6</td>\n",
       "      <td>0.225747</td>\n",
       "      <td>0.229069</td>\n",
       "      <td>0.232371</td>\n",
       "      <td>0.235653</td>\n",
       "      <td>0.238914</td>\n",
       "      <td>0.242154</td>\n",
       "      <td>0.245373</td>\n",
       "      <td>0.248571</td>\n",
       "      <td>0.251748</td>\n",
       "      <td>0.254903</td>\n",
       "    </tr>\n",
       "    <tr>\n",
       "      <td>0.7</td>\n",
       "      <td>0.258036</td>\n",
       "      <td>0.261148</td>\n",
       "      <td>0.264238</td>\n",
       "      <td>0.267305</td>\n",
       "      <td>0.270350</td>\n",
       "      <td>0.273373</td>\n",
       "      <td>0.276373</td>\n",
       "      <td>0.279350</td>\n",
       "      <td>0.282305</td>\n",
       "      <td>0.285236</td>\n",
       "    </tr>\n",
       "    <tr>\n",
       "      <td>0.8</td>\n",
       "      <td>0.288145</td>\n",
       "      <td>0.291030</td>\n",
       "      <td>0.293892</td>\n",
       "      <td>0.296731</td>\n",
       "      <td>0.299546</td>\n",
       "      <td>0.302337</td>\n",
       "      <td>0.305105</td>\n",
       "      <td>0.307850</td>\n",
       "      <td>0.310570</td>\n",
       "      <td>0.313267</td>\n",
       "    </tr>\n",
       "    <tr>\n",
       "      <td>0.9</td>\n",
       "      <td>0.315940</td>\n",
       "      <td>0.318589</td>\n",
       "      <td>0.321214</td>\n",
       "      <td>0.323814</td>\n",
       "      <td>0.326391</td>\n",
       "      <td>0.328944</td>\n",
       "      <td>0.331472</td>\n",
       "      <td>0.333977</td>\n",
       "      <td>0.336457</td>\n",
       "      <td>0.338913</td>\n",
       "    </tr>\n",
       "    <tr>\n",
       "      <td>1.0</td>\n",
       "      <td>0.341345</td>\n",
       "      <td>0.343752</td>\n",
       "      <td>0.346136</td>\n",
       "      <td>0.348495</td>\n",
       "      <td>0.350830</td>\n",
       "      <td>0.353141</td>\n",
       "      <td>0.355428</td>\n",
       "      <td>0.357690</td>\n",
       "      <td>0.359929</td>\n",
       "      <td>0.362143</td>\n",
       "    </tr>\n",
       "  </tbody>\n",
       "</table>\n",
       "</div>"
      ],
      "text/plain": [
       "         0.00      0.01      0.02      0.03      0.04      0.05      0.06  \\\n",
       "0.0  0.000000  0.003989  0.007978  0.011966  0.015953  0.019939  0.023922   \n",
       "0.1  0.039828  0.043795  0.047758  0.051717  0.055670  0.059618  0.063559   \n",
       "0.2  0.079260  0.083166  0.087064  0.090954  0.094835  0.098706  0.102568   \n",
       "0.3  0.117911  0.121720  0.125516  0.129300  0.133072  0.136831  0.140576   \n",
       "0.4  0.155422  0.159097  0.162757  0.166402  0.170031  0.173645  0.177242   \n",
       "0.5  0.191462  0.194974  0.198468  0.201944  0.205401  0.208840  0.212260   \n",
       "0.6  0.225747  0.229069  0.232371  0.235653  0.238914  0.242154  0.245373   \n",
       "0.7  0.258036  0.261148  0.264238  0.267305  0.270350  0.273373  0.276373   \n",
       "0.8  0.288145  0.291030  0.293892  0.296731  0.299546  0.302337  0.305105   \n",
       "0.9  0.315940  0.318589  0.321214  0.323814  0.326391  0.328944  0.331472   \n",
       "1.0  0.341345  0.343752  0.346136  0.348495  0.350830  0.353141  0.355428   \n",
       "\n",
       "         0.07      0.08      0.09  \n",
       "0.0  0.027903  0.031881  0.035856  \n",
       "0.1  0.067495  0.071424  0.075345  \n",
       "0.2  0.106420  0.110261  0.114092  \n",
       "0.3  0.144309  0.148027  0.151732  \n",
       "0.4  0.180822  0.184386  0.187933  \n",
       "0.5  0.215661  0.219043  0.222405  \n",
       "0.6  0.248571  0.251748  0.254903  \n",
       "0.7  0.279350  0.282305  0.285236  \n",
       "0.8  0.307850  0.310570  0.313267  \n",
       "0.9  0.333977  0.336457  0.338913  \n",
       "1.0  0.357690  0.359929  0.362143  "
      ]
     },
     "execution_count": 13,
     "metadata": {},
     "output_type": "execute_result"
    }
   ],
   "source": [
    "large_increments = np.linspace(0, 1, 11)\n",
    "small_increments = np.linspace(0, 0.09, 10)\n",
    "table = np.zeros((len(large_increments), len(small_increments)))\n",
    "\n",
    "for i in range(len(large_increments)):\n",
    "    for j in range(len(small_increments)):\n",
    "        # Here we use the survival function sf, which is 1 - cdf.\n",
    "        table[i][j] = stats.norm.sf(0) - stats.norm.sf(large_increments[i] + small_increments[j])\n",
    "\n",
    "pd.DataFrame(table, columns=small_increments, index=large_increments)"
   ]
  },
  {
   "cell_type": "markdown",
   "metadata": {},
   "source": [
    "Now let's convert probabilities to the form $X\\sigma$. Note that the `cdf` function integrates from $-\\infty$ to $x$.\n",
    "\n",
    "The probability for $1\\sigma$ is about 0.1587, $2\\sigma$: 0.0227, $5\\sigma$: 2.8665e-07."
   ]
  },
  {
   "cell_type": "code",
   "execution_count": 14,
   "metadata": {},
   "outputs": [
    {
     "name": "stdout",
     "output_type": "stream",
     "text": [
      "[-0.99981509 -2.00092939 -5.00000106]\n"
     ]
    }
   ],
   "source": [
    "probabilities = np.array([0.1587, 0.0227, 2.8665e-07])\n",
    "print(stats.norm.ppf(probabilities))"
   ]
  },
  {
   "cell_type": "markdown",
   "metadata": {},
   "source": [
    "Great - these are approximately $1\\sigma$, $2\\sigma$, and $5\\sigma$, as expected. The negative sign on each value indicates that it falls to the left of the mean (which is at 0). Since we're integrating the PDF starting from the left tail, we expect to end up on the left of the mean as long as the probability is less than 0.5."
   ]
  },
  {
   "cell_type": "markdown",
   "metadata": {},
   "source": [
    "## Lognormal distribution, μ=0, σ=0.25"
   ]
  },
  {
   "cell_type": "markdown",
   "metadata": {},
   "source": [
    "First, let's plot a histogram of some lognormally distributed data, as well as the PDF for the distribution."
   ]
  },
  {
   "cell_type": "code",
   "execution_count": 15,
   "metadata": {},
   "outputs": [
    {
     "data": {
      "image/png": "[encoded data removed]",
      "text/plain": [
       "<Figure size 1296x720 with 1 Axes>"
      ]
     },
     "metadata": {
      "needs_background": "light"
     },
     "output_type": "display_data"
    }
   ],
   "source": [
    "dist = stats.lognorm(0.25, 0)\n",
    "samples = dist.rvs(100_000)\n",
    "\n",
    "plt.title(\"Lognormal Distribution, μ=0, σ=0.25\")\n",
    "plt.hist(samples, 50, density=True)\n",
    "plt.xlim([0, 5])\n",
    "x = np.linspace(0, 5, 1000)\n",
    "plt.plot(x, dist.pdf(x), linewidth = 8, alpha = 0.7);"
   ]
  },
  {
   "cell_type": "markdown",
   "metadata": {},
   "source": [
    "Let's choose an arbitrary signal threshold for a hypothetical measurement: 2\n",
    "\n",
    "What is the probability that I find a value that is as signal-like or more signal-like than 2 in my signal-free data?\n",
    "\n",
    "That is, we must find $\\int_{2}^{\\infty} \\frac{1}{x\\sigma\\sqrt{2\\pi}} \\exp \\left(-\\frac{(\\ln{x} - \\mu)^2}{2\\sigma^2}\\right) dx$ for $\\mu = 0, \\sigma = 0.25$"
   ]
  },
  {
   "cell_type": "markdown",
   "metadata": {},
   "source": [
    "We can use the survival function `sf` to evaluate the integral:"
   ]
  },
  {
   "cell_type": "code",
   "execution_count": 16,
   "metadata": {},
   "outputs": [
    {
     "data": {
      "text/plain": [
       "0.002780617862309522"
      ]
     },
     "execution_count": 16,
     "metadata": {},
     "output_type": "execute_result"
    }
   ],
   "source": [
    "dist.sf(2)"
   ]
  },
  {
   "cell_type": "markdown",
   "metadata": {},
   "source": [
    "This probability is about 0.28%. Let's convert it to the form $X\\sigma$."
   ]
  },
  {
   "cell_type": "code",
   "execution_count": 17,
   "metadata": {},
   "outputs": [
    {
     "data": {
      "text/plain": [
       "-2.772588722239781"
      ]
     },
     "execution_count": 17,
     "metadata": {},
     "output_type": "execute_result"
    }
   ],
   "source": [
    "# How far must we integrate the standard normal distribution to get the same probability?\n",
    "stats.norm.ppf(dist.sf(2))"
   ]
  },
  {
   "cell_type": "markdown",
   "metadata": {},
   "source": [
    "Therefore, the probability that I measure a value that is as signal-like or more signal-like than 2 in my signal-free data is $2.77\\sigma$"
   ]
  },
  {
   "cell_type": "markdown",
   "metadata": {},
   "source": [
    "Let's keep increasing the threshold for what constitutes a signal."
   ]
  },
  {
   "cell_type": "code",
   "execution_count": 18,
   "metadata": {},
   "outputs": [
    {
     "data": {
      "image/png": "[encoded data removed]",
      "text/plain": [
       "<Figure size 1296x720 with 1 Axes>"
      ]
     },
     "metadata": {
      "needs_background": "light"
     },
     "output_type": "display_data"
    }
   ],
   "source": [
    "signals = np.linspace(2, 10000, 200)\n",
    "sigmas = np.abs(stats.norm.ppf(dist.sf(signals)))\n",
    "\n",
    "plt.title(\"Sigmas vs. Signal thresholds\")\n",
    "plt.xlabel(\"log(signal)\")\n",
    "plt.ylabel(\"sigma\")\n",
    "plt.semilogx(signals, sigmas);"
   ]
  },
  {
   "cell_type": "markdown",
   "metadata": {},
   "source": [
    "This tells us that the probability (expressed as a number of sigmas) of finding a data point that is as signal-like or more signal-like than some signal threshold is linearly related to the log of the threshold."
   ]
  }
 ],
 "metadata": {
  "kernelspec": {
   "display_name": "Python 3",
   "language": "python",
   "name": "python3"
  },
  "language_info": {
   "codemirror_mode": {
    "name": "ipython",
    "version": 3
   },
   "file_extension": ".py",
   "mimetype": "text/x-python",
   "name": "python",
   "nbconvert_exporter": "python",
   "pygments_lexer": "ipython3",
   "version": "3.7.4"
  }
 },
 "nbformat": 4,
 "nbformat_minor": 4
}
